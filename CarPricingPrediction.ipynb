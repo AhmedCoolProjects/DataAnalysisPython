{
  "nbformat": 4,
  "nbformat_minor": 0,
  "metadata": {
    "colab": {
      "name": "CarPricingPrediction.ipynb",
      "provenance": [],
      "authorship_tag": "ABX9TyP2S4aRhViLS7nOidxmX9iz"
    },
    "kernelspec": {
      "name": "python3",
      "display_name": "Python 3"
    },
    "language_info": {
      "name": "python"
    }
  },
  "cells": [
    {
      "cell_type": "markdown",
      "metadata": {
        "id": "3hmfnEizKbBQ"
      },
      "source": [
        "#Importing, Cleaning & Modeling the Dataset"
      ]
    },
    {
      "cell_type": "code",
      "metadata": {
        "id": "1hpc8sAC7p8O"
      },
      "source": [
        "# scientific libraries: Pandas, Numpy, Sypy.\n",
        "# visualization: Matplotlib, Seaborn.\n",
        "# Algorithms libraries: ScikitLearn, statsModels. "
      ],
      "execution_count": 1,
      "outputs": []
    },
    {
      "cell_type": "code",
      "metadata": {
        "id": "4duCXdZr8xqA"
      },
      "source": [
        "import pandas as pd"
      ],
      "execution_count": 2,
      "outputs": []
    },
    {
      "cell_type": "code",
      "metadata": {
        "id": "2qTyfdSS-MAf"
      },
      "source": [
        "# importing and reading data for used car\n",
        "url_data = \"https://cf-courses-data.s3.us.cloud-object-storage.appdomain.cloud/IBMDeveloperSkillsNetwork-DA0101EN-SkillsNetwork/labs/Data%20files/auto.csv\"\n",
        "data_df = pd.read_csv(url_data,header=None)\n",
        "# csv, json, excel, sql\n",
        "headers = [\"symboling\",\"normalized-losses\",\"make\",\"fuel-type\",\"aspiration\", \"num-of-doors\",\"body-style\",\n",
        "         \"drive-wheels\",\"engine-location\",\"wheel-base\", \"length\",\"width\",\"height\",\"curb-weight\",\"engine-type\",\n",
        "         \"num-of-cylinders\", \"engine-size\",\"fuel-system\",\"bore\",\"stroke\",\"compression-ratio\",\"horsepower\",\n",
        "         \"peak-rpm\",\"city-mpg\",\"highway-mpg\",\"price\"]\n",
        "data_df.columns = headers \n",
        "data_df.head()"
      ],
      "execution_count": null,
      "outputs": []
    },
    {
      "cell_type": "code",
      "metadata": {
        "id": "Xpa-Se4CAWNa"
      },
      "source": [
        "import numpy as np\n",
        "data_df = data_df.replace(\"?\",np.NaN).dropna(subset=[\"price\"],axis=0)\n",
        "data_df.head()"
      ],
      "execution_count": null,
      "outputs": []
    },
    {
      "cell_type": "code",
      "metadata": {
        "id": "8tHFA5VLHD4c"
      },
      "source": [
        "print(data_df.columns)"
      ],
      "execution_count": null,
      "outputs": []
    },
    {
      "cell_type": "code",
      "metadata": {
        "id": "MuqBzW7NHWHI"
      },
      "source": [
        "data_df.dtypes"
      ],
      "execution_count": null,
      "outputs": []
    },
    {
      "cell_type": "code",
      "metadata": {
        "id": "Q5mGQnNUH1UZ"
      },
      "source": [
        "data_df.describe()"
      ],
      "execution_count": null,
      "outputs": []
    },
    {
      "cell_type": "code",
      "metadata": {
        "id": "7SQOcR7TIQIC"
      },
      "source": [
        "data_df.describe(include=\"all\")"
      ],
      "execution_count": null,
      "outputs": []
    },
    {
      "cell_type": "code",
      "metadata": {
        "id": "pikgCK9iIvWa"
      },
      "source": [
        "data_df.info()"
      ],
      "execution_count": null,
      "outputs": []
    },
    {
      "cell_type": "code",
      "metadata": {
        "id": "4ar9xaRpJVdK"
      },
      "source": [
        ""
      ],
      "execution_count": null,
      "outputs": []
    }
  ]
}